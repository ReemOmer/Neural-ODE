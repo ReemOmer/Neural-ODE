{
  "nbformat": 4,
  "nbformat_minor": 0,
  "metadata": {
    "colab": {
      "name": "Neural ODE.ipynb",
      "provenance": [],
      "authorship_tag": "ABX9TyPDmbsUS8J4ebn+X62tbST/",
      "include_colab_link": true
    },
    "kernelspec": {
      "name": "python3",
      "display_name": "Python 3"
    },
    "accelerator": "GPU"
  },
  "cells": [
    {
      "cell_type": "markdown",
      "metadata": {
        "id": "view-in-github",
        "colab_type": "text"
      },
      "source": [
        "<a href=\"https://colab.research.google.com/github/ReemOmer/Neural-ODE/blob/master/Neural_ODE.ipynb\" target=\"_parent\"><img src=\"https://colab.research.google.com/assets/colab-badge.svg\" alt=\"Open In Colab\"/></a>"
      ]
    },
    {
      "cell_type": "code",
      "metadata": {
        "id": "uf-j4lW1A-2q",
        "colab_type": "code",
        "colab": {
          "base_uri": "https://localhost:8080/",
          "height": 35
        },
        "outputId": "d5f2880d-c4bb-4e4d-ed1a-9debe1632e8d"
      },
      "source": [
        "%tensorflow_version 1.x\n",
        "import tensorflow as tf\n",
        "print(tf.__version__)"
      ],
      "execution_count": 3,
      "outputs": [
        {
          "output_type": "stream",
          "text": [
            "1.15.2\n"
          ],
          "name": "stdout"
        }
      ]
    },
    {
      "cell_type": "code",
      "metadata": {
        "id": "BrrIYO57CHTT",
        "colab_type": "code",
        "colab": {
          "base_uri": "https://localhost:8080/",
          "height": 635
        },
        "outputId": "66df3c23-68b8-43d1-bf24-c24e547dddea"
      },
      "source": [
        "!apt-get install protobuf-compiler python-pil python-lxml python-tk\n",
        "!pip install Cython\n",
        "\n",
        "!git clone https://github.com/tensorflow/models.git\n",
        "\n",
        "%cd /content/models/research\n",
        "\n",
        "!protoc object_detection/protos/*.proto --python_out=.\n",
        "\n",
        "import os\n",
        "os.environ['PYTHONPATH'] = '/content/models/research:/content/models/research/slim:' + os.environ['PYTHONPATH']\n",
        "\n",
        "!python object_detection/builders/model_builder_test.py"
      ],
      "execution_count": 4,
      "outputs": [
        {
          "output_type": "stream",
          "text": [
            "\rReading package lists... 0%\r\rReading package lists... 0%\r\rReading package lists... 0%\r\rReading package lists... 6%\r\rReading package lists... 6%\r\rReading package lists... 6%\r\rReading package lists... 6%\r\rReading package lists... 61%\r\rReading package lists... 61%\r\rReading package lists... 61%\r\rReading package lists... 61%\r\rReading package lists... 64%\r\rReading package lists... 69%\r\rReading package lists... 69%\r\rReading package lists... 70%\r\rReading package lists... 70%\r\rReading package lists... 79%\r\rReading package lists... 79%\r\rReading package lists... 80%\r\rReading package lists... 80%\r\rReading package lists... 80%\r\rReading package lists... 80%\r\rReading package lists... 80%\r\rReading package lists... 80%\r\rReading package lists... 86%\r\rReading package lists... 86%\r\rReading package lists... 87%\r\rReading package lists... 87%\r\rReading package lists... 92%\r\rReading package lists... 92%\r\rReading package lists... 92%\r\rReading package lists... 92%\r\rReading package lists... 93%\r\rReading package lists... 93%\r\rReading package lists... 94%\r\rReading package lists... 94%\r\rReading package lists... 95%\r\rReading package lists... 95%\r\rReading package lists... 98%\r\rReading package lists... 98%\r\rReading package lists... 98%\r\rReading package lists... 98%\r\rReading package lists... Done\r\n",
            "\rBuilding dependency tree... 0%\r\rBuilding dependency tree... 0%\r\rBuilding dependency tree... 50%\r\rBuilding dependency tree... 50%\r\rBuilding dependency tree       \r\n",
            "\rReading state information... 0%\r\rReading state information... 0%\r\rReading state information... Done\r\n",
            "protobuf-compiler is already the newest version (3.0.0-9.1ubuntu1).\n",
            "python-lxml is already the newest version (4.2.1-1ubuntu0.1).\n",
            "python-pil is already the newest version (5.1.0-1ubuntu0.3).\n",
            "python-tk is already the newest version (2.7.17-1~18.04).\n",
            "The following package was automatically installed and is no longer required:\n",
            "  libnvidia-common-440\n",
            "Use 'apt autoremove' to remove it.\n",
            "0 upgraded, 0 newly installed, 0 to remove and 35 not upgraded.\n",
            "Requirement already satisfied: Cython in /usr/local/lib/python3.6/dist-packages (0.29.21)\n",
            "Cloning into 'models'...\n",
            "remote: Enumerating objects: 29, done.\u001b[K\n",
            "remote: Counting objects: 100% (29/29), done.\u001b[K\n",
            "remote: Compressing objects: 100% (29/29), done.\u001b[K\n",
            "remote: Total 41964 (delta 11), reused 18 (delta 0), pack-reused 41935\u001b[K\n",
            "Receiving objects: 100% (41964/41964), 549.27 MiB | 15.63 MiB/s, done.\n",
            "Resolving deltas: 100% (28514/28514), done.\n",
            "/content/models/research\n",
            "Traceback (most recent call last):\n",
            "  File \"object_detection/builders/model_builder_test.py\", line 21, in <module>\n",
            "    from object_detection.builders import model_builder\n",
            "  File \"/content/models/research/object_detection/builders/model_builder.py\", line 20, in <module>\n",
            "    from object_detection.builders import anchor_generator_builder\n",
            "  File \"/content/models/research/object_detection/builders/anchor_generator_builder.py\", line 23, in <module>\n",
            "    from object_detection.anchor_generators import flexible_grid_anchor_generator\n",
            "  File \"/content/models/research/object_detection/anchor_generators/flexible_grid_anchor_generator.py\", line 19, in <module>\n",
            "    from object_detection.anchor_generators import grid_anchor_generator\n",
            "  File \"/content/models/research/object_detection/anchor_generators/grid_anchor_generator.py\", line 27, in <module>\n",
            "    from object_detection.utils import ops\n",
            "  File \"/content/models/research/object_detection/utils/ops.py\", line 28, in <module>\n",
            "    import tf_slim as slim\n",
            "ModuleNotFoundError: No module named 'tf_slim'\n"
          ],
          "name": "stdout"
        }
      ]
    },
    {
      "cell_type": "code",
      "metadata": {
        "id": "FOjzlo-v7E4y",
        "colab_type": "code",
        "colab": {
          "base_uri": "https://localhost:8080/",
          "height": 1000
        },
        "outputId": "49ef2d3a-8f2b-49bd-f603-f75fa5097e34"
      },
      "source": [
        "# required libraries and functions\n",
        "import keras\n",
        "import tensorflow as tf\n",
        "import keras.backend as K\n",
        "from keras.models import Model\n",
        "import matplotlib.pyplot as plt\n",
        "from keras.datasets import cifar100\n",
        "from keras.layers import Conv2D, Dense, Flatten, Input, MaxPooling2D, Layer\n",
        "\n",
        "# create a neural ODE layer\n",
        "class ODEBlock(Layer):\n",
        "\n",
        "    def __init__(self, filters, kernel_size, **kwargs):\n",
        "        self.filters = filters\n",
        "        self.kernel_size = kernel_size\n",
        "        super(ODEBlock, self).__init__(**kwargs)\n",
        "\n",
        "    # one neural ODE block\n",
        "    def build(self, input_shape):\n",
        "        self.conv2d_w1 = self.add_weight(\"conv2d_w1\", self.kernel_size + (self.filters + 1, self.filters), initializer='glorot_uniform')\n",
        "        self.conv2d_w2 = self.add_weight(\"conv2d_w2\", self.kernel_size + (self.filters + 1, self.filters), initializer='glorot_uniform')\n",
        "        self.conv2d_b1 = self.add_weight(\"conv2d_b1\", (self.filters,), initializer='zero')\n",
        "        self.conv2d_b2 = self.add_weight(\"conv2d_b2\", (self.filters,), initializer='zero')\n",
        "        super(ODEBlock, self).build(input_shape)\n",
        "\n",
        "    # integrating the ODE function by taking x as initial value\n",
        "    def call(self, x):\n",
        "        t = K.constant([0, 1], dtype=\"float32\")\n",
        "        return tf.contrib.integrate.odeint(self.ode_func, x, t, rtol=1e-3, atol=1e-3)[1]\n",
        "\n",
        "    # defining the output\n",
        "    def compute_output_shape(self, input_shape):\n",
        "        return input_shape\n",
        "\n",
        "    # the ode function that should be solved over time t for x as input and y as output\n",
        "    def ode_func(self, x, t):\n",
        "        y = self.concat_t(x, t)\n",
        "        y = K.conv2d(y, self.conv2d_w1, padding=\"same\")\n",
        "        y = K.bias_add(y, self.conv2d_b1)\n",
        "        y = K.relu(y)\n",
        "\n",
        "        y = self.concat_t(y, t)\n",
        "        y = K.conv2d(y, self.conv2d_w2, padding=\"same\")\n",
        "        y = K.bias_add(y, self.conv2d_b2)\n",
        "        y = K.relu(y)\n",
        "\n",
        "        return y\n",
        "    def concat_t(self, x, t):\n",
        "        new_shape = tf.concat(\n",
        "            [\n",
        "                tf.shape(x)[:-1],\n",
        "                tf.constant([1],dtype=\"int32\",shape=(1,))\n",
        "            ], axis=0)\n",
        "\n",
        "        t = tf.ones(shape=new_shape) * tf.reshape(t, (1, 1, 1, 1))\n",
        "        return tf.concat([x, t], axis=-1)\n",
        "\n",
        "# Neural ODE model\n",
        "def build_model(input_shape, num_classes):\n",
        "    x = Input(input_shape)\n",
        "    y = Conv2D(32, (3, 3), activation='relu')(x)\n",
        "    y = MaxPooling2D((2,2))(y)\n",
        "    y = Conv2D(64, (3, 3), activation='relu')(y)\n",
        "    y = MaxPooling2D((2,2))(y)\n",
        "    y = ODEBlock(64, (3, 3))(y)\n",
        "    y = Flatten()(y)\n",
        "    y = Dense(num_classes, activation='softmax')(y)\n",
        "    return Model(x,y)\n",
        "\n",
        "# model configuration\n",
        "batch_size = 1000\n",
        "img_width, img_height, img_num_channels = 32, 32, 3\n",
        "loss_function = keras.losses.categorical_crossentropy\n",
        "optimizer = keras.optimizers.Adam()\n",
        "no_classes = 100\n",
        "no_epochs = 40\n",
        "validation_split = 0.2\n",
        "verbosity = 1\n",
        "\n",
        "# determine shape of the data\n",
        "image_shape = (img_width, img_height, img_num_channels)\n",
        "\n",
        "# load the dataset\n",
        "(x_train, y_train), (x_test, y_test) = cifar100.load_data()\n",
        "\n",
        "# normalize the inputs\n",
        "x_train = x_train.astype('float32') / 255\n",
        "x_test = x_test.astype('float32') / 255\n",
        "\n",
        "# encode the outputs\n",
        "y_train = keras.utils.to_categorical(y_train, no_classes)\n",
        "y_test  = keras.utils.to_categorical(y_test, no_classes)\n",
        "\n",
        "# create the neural ODE model\n",
        "model = build_model(image_shape, no_classes)\n",
        "\n",
        "# compile the model\n",
        "model.compile(loss=loss_function,\n",
        "              optimizer=optimizer,\n",
        "              metrics=['accuracy'])\n",
        "\n",
        "# fit the data\n",
        "history = model.fit(x_train, y_train,\n",
        "          batch_size=batch_size,\n",
        "          epochs=no_epochs,\n",
        "          verbose=verbosity,\n",
        "          validation_split=validation_split)\n",
        "\n",
        "# generate generalization metrics\n",
        "score = model.evaluate(x_test, y_test, verbose=0)\n",
        "print('Test loss:', round(score[0],2), 'Test accuracy:', round(score[1],2))\n",
        "\n",
        "# results visualization\n",
        "plt.plot(history.history['loss'], label='Train')\n",
        "plt.plot(history.history['val_loss'], '--', label='Validation')\n",
        "plt.legend()\n",
        "plt.title('Loss History')\n",
        "plt.ylabel('Loss value')\n",
        "plt.xlabel('No. epoch')\n",
        "plt.show()\n",
        "\n",
        "plt.plot(history.history['accuracy'], label='Train')\n",
        "plt.plot(history.history['val_accuracy'], '--', label='Validation')\n",
        "plt.legend()\n",
        "plt.title('Accuracy History')\n",
        "plt.ylabel('Accuracy value (%)')\n",
        "plt.xlabel('No. epoch')\n",
        "plt.show()"
      ],
      "execution_count": 9,
      "outputs": [
        {
          "output_type": "stream",
          "text": [
            "Train on 40000 samples, validate on 10000 samples\n",
            "Epoch 1/40\n",
            "40000/40000 [==============================] - 17s 423us/step - loss: 4.3305 - accuracy: 0.0462 - val_loss: 4.0247 - val_accuracy: 0.0935\n",
            "Epoch 2/40\n",
            "40000/40000 [==============================] - 12s 289us/step - loss: 3.7787 - accuracy: 0.1337 - val_loss: 3.6594 - val_accuracy: 0.1499\n",
            "Epoch 3/40\n",
            "40000/40000 [==============================] - 12s 289us/step - loss: 3.4755 - accuracy: 0.1831 - val_loss: 3.3999 - val_accuracy: 0.1973\n",
            "Epoch 4/40\n",
            "40000/40000 [==============================] - 12s 289us/step - loss: 3.2405 - accuracy: 0.2275 - val_loss: 3.2546 - val_accuracy: 0.2222\n",
            "Epoch 5/40\n",
            "40000/40000 [==============================] - 12s 289us/step - loss: 3.0744 - accuracy: 0.2602 - val_loss: 3.1421 - val_accuracy: 0.2451\n",
            "Epoch 6/40\n",
            "40000/40000 [==============================] - 12s 290us/step - loss: 2.9453 - accuracy: 0.2833 - val_loss: 3.0252 - val_accuracy: 0.2730\n",
            "Epoch 7/40\n",
            "40000/40000 [==============================] - 12s 290us/step - loss: 2.8305 - accuracy: 0.3056 - val_loss: 2.9547 - val_accuracy: 0.2815\n",
            "Epoch 8/40\n",
            "40000/40000 [==============================] - 12s 289us/step - loss: 2.7438 - accuracy: 0.3228 - val_loss: 2.9109 - val_accuracy: 0.2930\n",
            "Epoch 9/40\n",
            "40000/40000 [==============================] - 12s 288us/step - loss: 2.6571 - accuracy: 0.3406 - val_loss: 2.8618 - val_accuracy: 0.3043\n",
            "Epoch 10/40\n",
            "40000/40000 [==============================] - 12s 288us/step - loss: 2.5621 - accuracy: 0.3601 - val_loss: 2.8330 - val_accuracy: 0.3069\n",
            "Epoch 11/40\n",
            "40000/40000 [==============================] - 12s 288us/step - loss: 2.5039 - accuracy: 0.3724 - val_loss: 2.8089 - val_accuracy: 0.3125\n",
            "Epoch 12/40\n",
            "40000/40000 [==============================] - 12s 288us/step - loss: 2.4371 - accuracy: 0.3832 - val_loss: 2.7792 - val_accuracy: 0.3230\n",
            "Epoch 13/40\n",
            "40000/40000 [==============================] - 12s 288us/step - loss: 2.3567 - accuracy: 0.4004 - val_loss: 2.7706 - val_accuracy: 0.3225\n",
            "Epoch 14/40\n",
            "40000/40000 [==============================] - 12s 288us/step - loss: 2.2870 - accuracy: 0.4169 - val_loss: 2.7220 - val_accuracy: 0.3369\n",
            "Epoch 15/40\n",
            "40000/40000 [==============================] - 12s 288us/step - loss: 2.2243 - accuracy: 0.4282 - val_loss: 2.6870 - val_accuracy: 0.3440\n",
            "Epoch 16/40\n",
            "40000/40000 [==============================] - 11s 287us/step - loss: 2.1614 - accuracy: 0.4426 - val_loss: 2.7163 - val_accuracy: 0.3417\n",
            "Epoch 17/40\n",
            "40000/40000 [==============================] - 12s 288us/step - loss: 2.0948 - accuracy: 0.4581 - val_loss: 2.7586 - val_accuracy: 0.3337\n",
            "Epoch 18/40\n",
            "40000/40000 [==============================] - 11s 287us/step - loss: 2.0431 - accuracy: 0.4685 - val_loss: 2.7264 - val_accuracy: 0.3458\n",
            "Epoch 19/40\n",
            "40000/40000 [==============================] - 12s 288us/step - loss: 1.9735 - accuracy: 0.4845 - val_loss: 2.7130 - val_accuracy: 0.3487\n",
            "Epoch 20/40\n",
            "40000/40000 [==============================] - 12s 288us/step - loss: 1.9090 - accuracy: 0.4999 - val_loss: 2.7390 - val_accuracy: 0.3487\n",
            "Epoch 21/40\n",
            "40000/40000 [==============================] - 12s 288us/step - loss: 1.8750 - accuracy: 0.5045 - val_loss: 2.7304 - val_accuracy: 0.3491\n",
            "Epoch 22/40\n",
            "40000/40000 [==============================] - 12s 288us/step - loss: 1.8022 - accuracy: 0.5247 - val_loss: 2.7525 - val_accuracy: 0.3495\n",
            "Epoch 23/40\n",
            "40000/40000 [==============================] - 12s 288us/step - loss: 1.7435 - accuracy: 0.5338 - val_loss: 2.7700 - val_accuracy: 0.3476\n",
            "Epoch 24/40\n",
            "40000/40000 [==============================] - 12s 302us/step - loss: 1.6823 - accuracy: 0.5498 - val_loss: 2.7973 - val_accuracy: 0.3506\n",
            "Epoch 25/40\n",
            "40000/40000 [==============================] - 19s 480us/step - loss: 1.6267 - accuracy: 0.5635 - val_loss: 2.8387 - val_accuracy: 0.3496\n",
            "Epoch 26/40\n",
            "40000/40000 [==============================] - 32s 797us/step - loss: 1.5570 - accuracy: 0.5818 - val_loss: 2.8947 - val_accuracy: 0.3475\n",
            "Epoch 27/40\n",
            "40000/40000 [==============================] - 32s 798us/step - loss: 1.5012 - accuracy: 0.5930 - val_loss: 2.9236 - val_accuracy: 0.3475\n",
            "Epoch 28/40\n",
            "40000/40000 [==============================] - 31s 765us/step - loss: 1.4692 - accuracy: 0.6007 - val_loss: 2.9326 - val_accuracy: 0.3496\n",
            "Epoch 29/40\n",
            "40000/40000 [==============================] - 31s 773us/step - loss: 1.4042 - accuracy: 0.6161 - val_loss: 3.0040 - val_accuracy: 0.3459\n",
            "Epoch 30/40\n",
            "40000/40000 [==============================] - 31s 779us/step - loss: 1.3474 - accuracy: 0.6301 - val_loss: 2.9936 - val_accuracy: 0.3481\n",
            "Epoch 31/40\n",
            "40000/40000 [==============================] - 31s 778us/step - loss: 1.2887 - accuracy: 0.6474 - val_loss: 3.0749 - val_accuracy: 0.3431\n",
            "Epoch 32/40\n",
            "40000/40000 [==============================] - 30s 740us/step - loss: 1.2317 - accuracy: 0.6600 - val_loss: 3.1154 - val_accuracy: 0.3483\n",
            "Epoch 33/40\n",
            "40000/40000 [==============================] - 30s 743us/step - loss: 1.1659 - accuracy: 0.6783 - val_loss: 3.2160 - val_accuracy: 0.3376\n",
            "Epoch 34/40\n",
            "40000/40000 [==============================] - 31s 770us/step - loss: 1.1179 - accuracy: 0.6886 - val_loss: 3.2520 - val_accuracy: 0.3396\n",
            "Epoch 35/40\n",
            "40000/40000 [==============================] - 29s 722us/step - loss: 1.0543 - accuracy: 0.7066 - val_loss: 3.3643 - val_accuracy: 0.3389\n",
            "Epoch 36/40\n",
            "40000/40000 [==============================] - 30s 747us/step - loss: 1.0246 - accuracy: 0.7106 - val_loss: 3.4333 - val_accuracy: 0.3385\n",
            "Epoch 37/40\n",
            "40000/40000 [==============================] - 30s 754us/step - loss: 0.9617 - accuracy: 0.7295 - val_loss: 3.5101 - val_accuracy: 0.3346\n",
            "Epoch 38/40\n",
            "40000/40000 [==============================] - 29s 726us/step - loss: 0.9231 - accuracy: 0.7390 - val_loss: 3.6429 - val_accuracy: 0.3351\n",
            "Epoch 39/40\n",
            "40000/40000 [==============================] - 28s 704us/step - loss: 0.8597 - accuracy: 0.7551 - val_loss: 3.7615 - val_accuracy: 0.3334\n",
            "Epoch 40/40\n",
            "40000/40000 [==============================] - 28s 711us/step - loss: 0.8125 - accuracy: 0.7685 - val_loss: 3.7111 - val_accuracy: 0.3270\n",
            "Test loss: 3.62 Test accuracy: 0.34\n"
          ],
          "name": "stdout"
        },
        {
          "output_type": "display_data",
          "data": {
            "image/png": "[encoded data removed]",
            "text/plain": [
              "<Figure size 432x288 with 1 Axes>"
            ]
          },
          "metadata": {
            "tags": [],
            "needs_background": "light"
          }
        },
        {
          "output_type": "display_data",
          "data": {
            "image/png": "[encoded data removed]",
            "text/plain": [
              "<Figure size 432x288 with 1 Axes>"
            ]
          },
          "metadata": {
            "tags": [],
            "needs_background": "light"
          }
        }
      ]
    },
    {
      "cell_type": "code",
      "metadata": {
        "id": "2md-5soRjtyz",
        "colab_type": "code",
        "colab": {}
      },
      "source": [
        ""
      ],
      "execution_count": null,
      "outputs": []
    }
  ]
}